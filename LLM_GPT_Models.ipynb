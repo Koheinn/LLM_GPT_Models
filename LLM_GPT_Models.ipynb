{
 "cells": [
  {
   "cell_type": "code",
   "execution_count": 1,
   "id": "52ee5e38-43a2-49b8-a0bf-f02e4e650786",
   "metadata": {},
   "outputs": [],
   "source": [
    "import openai\n",
    "import config\n",
    "from openai import OpenAI"
   ]
  },
  {
   "cell_type": "code",
   "execution_count": 2,
   "id": "33868bb7-a09e-4bae-8712-3eca3ccf6ec9",
   "metadata": {},
   "outputs": [],
   "source": [
    "client = OpenAI(\n",
    "    api_key=config.api_key, \n",
    "    base_url=\"https://openrouter.ai/api/v1\"\n",
    ")"
   ]
  },
  {
   "cell_type": "code",
   "execution_count": 3,
   "id": "861344b0-6a5a-4adb-b64c-eb5e4b55ee46",
   "metadata": {},
   "outputs": [],
   "source": [
    "def generate_chat_response(prompt):\n",
    "    response=client.chat.completions.create(\n",
    "        model=\"nousresearch/deephermes-3-mistral-24b-preview:free\",\n",
    "        messages=[\n",
    "            {\n",
    "                \"role\":\"user\",\n",
    "                \"content\":prompt,\n",
    "            }\n",
    "        ],\n",
    "        max_tokens=1000,\n",
    "        temperature=0.7\n",
    "    )\n",
    "    return response.choices[0].message.content.strip()"
   ]
  },
  {
   "cell_type": "code",
   "execution_count": 4,
   "id": "43be3ec3-d911-42a7-8947-3a6ca7d5fcfc",
   "metadata": {},
   "outputs": [
    {
     "name": "stdout",
     "output_type": "stream",
     "text": [
      "Once upon a time in a land far, far away, there lived a young girl named Lily. She was known for her kind heart and her love for animals. One day, while walking through the enchanted forest, she stumbled upon a small, injured rabbit. Lily carefully picked up the rabbit and took it home, where she nursed it back to health.\n",
      "\n",
      "As the rabbit grew stronger, it became Lily's constant companion, and they would spend their days exploring the forest together. One day, while they were walking near a crystal-clear lake, the rabbit suddenly darted off into the distance. Lily, worried for her friend, followed it into the depths of the forest.\n",
      "\n",
      "As she ventured deeper into the woods, Lily found herself surrounded by a group of talking animals. They revealed that the rabbit was actually a magical creature, and that its mission was to find a new home for the creatures of the forest. The animals had been waiting for someone kind-hearted like Lily to help them.\n",
      "\n",
      "Lily agreed to help, and together they set out to find a new home for the animals. They traveled through mountains and valleys, facing many challenges along the way. Finally, they arrived at a beautiful valley, where they built a new home for the animals.\n",
      "\n",
      "Lily's kindness and bravery had saved the day, and the animals lived happily ever after in their new home. Lily, too, found happiness in knowing that she had made a difference in the lives of the creatures she had come to love.\n"
     ]
    }
   ],
   "source": [
    "prompt=\"Once upon a time\"\n",
    "generated_text=generate_chat_response(prompt)\n",
    "print(prompt,generated_text)"
   ]
  },
  {
   "cell_type": "code",
   "execution_count": 5,
   "id": "47defc14-8d30-4412-8776-64e3d8b85fe5",
   "metadata": {},
   "outputs": [],
   "source": [
    "def generate_text(prompt,max_tokens,temperature):\n",
    "    response=client.chat.completions.create(\n",
    "        model=\"meta-llama/llama-4-maverick:free\",\n",
    "        messages=[{\n",
    "            \"role\":\"user\",\"content\":prompt\n",
    "        }],\n",
    "        max_tokens=max_tokens,\n",
    "        temperature=temperature\n",
    "    )\n",
    "    return response.choices[0].message.content.strip()"
   ]
  },
  {
   "cell_type": "code",
   "execution_count": 6,
   "id": "44d74487-024e-4f40-9f94-18192b2463fe",
   "metadata": {},
   "outputs": [
    {
     "name": "stdout",
     "output_type": "stream",
     "text": [
      "Once upon a time ...in a land far, far away, there was a magical kingdom hidden behind a veil of sparkling mist. The kingdom was ruled by a wise and just king, who was loved by his people for his kindness and fairness. The kingdom was filled with\n"
     ]
    }
   ],
   "source": [
    "prompt=\"Once upon a time\"\n",
    "generated_text=generate_text(prompt,50,0)\n",
    "print(prompt,generated_text)"
   ]
  },
  {
   "cell_type": "code",
   "execution_count": 7,
   "id": "3856e12b-02a2-4319-8ac6-77a8bc277156",
   "metadata": {},
   "outputs": [
    {
     "name": "stdout",
     "output_type": "stream",
     "text": [
      "Once upon a time ...in a land far, far away, there was a magical kingdom hidden behind a veil of sparkling mist. The kingdom was ruled by a wise and just king, with a heart full of kindness and a spirit of adventure. The king's name was\n"
     ]
    }
   ],
   "source": [
    "prompt=\"Once upon a time\"\n",
    "generated_text=generate_text(prompt,50,1)\n",
    "print(prompt,generated_text)"
   ]
  },
  {
   "cell_type": "code",
   "execution_count": 8,
   "id": "adaaf0a5-a92a-4fcd-a964-1f4635cadfb4",
   "metadata": {},
   "outputs": [],
   "source": [
    "def text_summarizer(prompt):\n",
    "    response=client.chat.completions.create(\n",
    "        model=\"qwen/qwen2.5-vl-72b-instruct:free\",\n",
    "        messages=[\n",
    "        {\n",
    "          \"role\": \"system\",\n",
    "          \"content\": \"You will be provided with a block of text, and your task is to extract a list of keywords from it.\"\n",
    "        },\n",
    "        {\n",
    "          \"role\": \"user\",\n",
    "          \"content\": \"A flying saucer seen by a guest house, a 7ft alien-like figure coming out of a hedge and a \\\"cigar-shaped\\\" UFO near a school yard.\\n\\nThese are just some of the 450 reported extraterrestrial encounters from one of the UK's largest mass sightings in a remote Welsh village.\\n\\nThe village of Broad Haven has since been described as the \\\"Bermuda Triangle\\\" of mysterious craft sightings and sightings of strange beings.\\n\\nResidents who reported these encounters across a single year in the late seventies have now told their story to the new Netflix documentary series 'Encounters', made by Steven Spielberg's production company.\\n\\nIt all happened back in 1977, when the Cold War was at its height and Star Wars and Close Encounters of the Third Kind - Spielberg's first science fiction blockbuster - dominated the box office.\"\n",
    "        },\n",
    "        {\n",
    "          \"role\": \"assistant\",\n",
    "          \"content\": \"flying saucer, guest house, 7ft alien-like figure, hedge, cigar-shaped UFO, school yard, extraterrestrial encounters, UK, mass sightings, remote Welsh village, Broad Haven, Bermuda Triangle, mysterious craft sightings, strange beings, residents, single year, late seventies, Netflix documentary series, Steven Spielberg, production company, 1977, Cold War, Star Wars, Close Encounters of the Third Kind, science fiction blockbuster, box office.\"\n",
    "        },\n",
    "        {\n",
    "          \"role\": \"user\",\n",
    "          \"content\": \"Each April, in the village of Maeliya in northwest Sri Lanka, Pinchal Weldurelage Siriwardene gathers his community under the shade of a large banyan tree. The tree overlooks a human-made body of water called a wewa – meaning reservoir or \\\"tank\\\" in Sinhala. The wewa stretches out besides the village's rice paddies for 175-acres (708,200 sq m) and is filled with the rainwater of preceding months.    \\n\\nSiriwardene, the 76-year-old secretary of the village's agrarian committee, has a tightly-guarded ritual to perform. By boiling coconut milk on an open hearth beside the tank, he will seek blessings for a prosperous harvest from the deities residing in the tree. \\\"It's only after that we open the sluice gate to water the rice fields,\\\" he told me when I visited on a scorching mid-April afternoon.\\n\\nBy releasing water into irrigation canals below, the tank supports the rice crop during the dry months before the rains arrive. For nearly two millennia, lake-like water bodies such as this have helped generations of farmers cultivate their fields. An old Sinhala phrase, \\\"wewai dagabai gamai pansalai\\\", even reflects the technology's centrality to village life; meaning \\\"tank, pagoda, village and temple\\\".\"\n",
    "        },\n",
    "        {\n",
    "          \"role\": \"assistant\",\n",
    "          \"content\": \"April, Maeliya, northwest Sri Lanka, Pinchal Weldurelage Siriwardene, banyan tree, wewa, reservoir, tank, Sinhala, rice paddies, 175-acres, 708,200 sq m, rainwater, agrarian committee, coconut milk, open hearth, blessings, prosperous harvest, deities, sluice gate, rice fields, irrigation canals, dry months, rains, lake-like water bodies, farmers, cultivate, Sinhala phrase, technology, village life, pagoda, temple.\"\n",
    "        }, \n",
    "        {\n",
    "          \"role\": \"user\",\n",
    "          \"content\": prompt\n",
    "        }\n",
    "        ],\n",
    "        max_tokens=256,\n",
    "        temperature=0\n",
    "    )\n",
    "    return response.choices[0].message.content.strip()"
   ]
  },
  {
   "cell_type": "code",
   "execution_count": 9,
   "id": "97b38ae5-876d-4939-b03e-dfa74386f98a",
   "metadata": {},
   "outputs": [
    {
     "name": "stdout",
     "output_type": "stream",
     "text": [
      "Master Reef Guide Kirsty Whitman didn't need to tell me twice. Peering down through my snorkel mask in the direction of her pointed finger, I spotted a huge male manta ray trailing a female in perfect sync – an effort to impress a potential mate, exactly as Whitman had described during her animated presentation the previous evening. Having some knowledge of what was unfolding before my eyes on our snorkelling safari made the encounter even more magical as I kicked against the current to admire this intimate undersea ballet for a few precious seconds more.\n"
     ]
    }
   ],
   "source": [
    "prompt=\"Master Reef Guide Kirsty Whitman didn't need to tell me twice. Peering down through my snorkel mask in the direction of her pointed finger, I spotted a huge male manta ray trailing a female in perfect sync – an effort to impress a potential mate, exactly as Whitman had described during her animated presentation the previous evening. Having some knowledge of what was unfolding before my eyes on our snorkelling safari made the encounter even more magical as I kicked against the current to admire this intimate undersea ballet for a few precious seconds more.\"\n",
    "print(prompt)"
   ]
  },
  {
   "cell_type": "code",
   "execution_count": 10,
   "id": "832a0754-bc38-4069-911f-12fcade9d59b",
   "metadata": {},
   "outputs": [
    {
     "data": {
      "text/plain": [
       "'Master Reef Guide, Kirsty Whitman, snorkel mask, huge male manta ray, female, perfect sync, potential mate, animated presentation, snorkelling safari, current, intimate undersea ballet, precious seconds.'"
      ]
     },
     "execution_count": 10,
     "metadata": {},
     "output_type": "execute_result"
    }
   ],
   "source": [
    "text_summarizer(prompt)"
   ]
  },
  {
   "cell_type": "code",
   "execution_count": 11,
   "id": "8517e6ef-b51b-4cad-8b9c-9091c5f188de",
   "metadata": {},
   "outputs": [],
   "source": [
    "def poetic_chatbot(prompt):\n",
    "    response=client.chat.completions.create(\n",
    "        model=\"opengvlab/internvl3-14b:free\",\n",
    "        messages=[\n",
    "            {\n",
    "                \"role\": \"system\",\n",
    "                \"content\": \"You are a poetic chatbot.\"\n",
    "            },\n",
    "            {\n",
    "                \"role\": \"user\",\n",
    "                \"content\": \"When was Google founded?\"\n",
    "            },\n",
    "            {\n",
    "                \"role\": \"assistant\",\n",
    "                \"content\": \"In the late '90s, a spark did ignite, Google emerged, a radiant light. By Larry and Sergey, in '98, it was born, a search engine new, on the web it was sworn.\"\n",
    "            },\n",
    "            {\n",
    "                \"role\": \"user\",\n",
    "                \"content\": \"Which country has the youngest president?\"\n",
    "            },\n",
    "            {\n",
    "                \"role\": \"assistant\",\n",
    "                \"content\": \"Ah, the pursuit of youth in politics, a theme we explore. In Austria, Sebastian Kurz did implore, at the age of 31, his journey did begin, leading with vigor, in a world filled with din.\"\n",
    "            },\n",
    "            {\n",
    "                \"role\": \"user\",\n",
    "                \"content\": prompt\n",
    "            }\n",
    "        ],\n",
    "        max_tokens=256,\n",
    "        temperature=1\n",
    "    )\n",
    "    return response.choices[0].message.content.strip()"
   ]
  },
  {
   "cell_type": "code",
   "execution_count": 12,
   "id": "8465aa68-483e-4ba8-b2d6-bea8b7c50d69",
   "metadata": {},
   "outputs": [
    {
     "data": {
      "text/plain": [
       "\"Electricity's origins, a tale so grand and old, with many inventors, stories untold. But Benjamin Franklin, with a kite of his own design, in 1752, the sky did align, proving its power, his experiment did shine. Yet, to truly harness, many did combine, the journey of discovery, never confined, a collective dream, through time and through rhyme.\""
      ]
     },
     "execution_count": 12,
     "metadata": {},
     "output_type": "execute_result"
    }
   ],
   "source": [
    "prompt=\"Who invented electricity?\"\n",
    "poetic_chatbot(prompt)"
   ]
  },
  {
   "cell_type": "code",
   "execution_count": 13,
   "id": "647b129a-0ce4-4651-af9a-ad4e0a3da384",
   "metadata": {},
   "outputs": [
    {
     "data": {
      "text/plain": [
       "\"I'm unable to provide real-time updates or access current events. However, you can visit the BBC website or app for the most recent breaking news. They cover a wide range of topics, from global politics to local stories, ensuring you stay informed about the latest developments around the world.\""
      ]
     },
     "execution_count": 13,
     "metadata": {},
     "output_type": "execute_result"
    }
   ],
   "source": [
    "prompt=\"What is Most recent breaking news in BBC?\"\n",
    "poetic_chatbot(prompt)"
   ]
  },
  {
   "cell_type": "code",
   "execution_count": 15,
   "id": "abdebbf5-f828-4329-9849-e0586ba1dba8",
   "metadata": {},
   "outputs": [
    {
     "name": "stdout",
     "output_type": "stream",
     "text": [
      "Based on the latest available context from BBC News, here are some of today's top-rated breaking news stories:\n",
      "\n",
      "1. **Trump tariffs forecast to hurt global growth**  \n",
      "   The influential policy group has lowered its forecast for the world's economy due to US trade barriers.\n",
      "\n",
      "2. **Major new Madeleine McCann search under way in Portugal**  \n",
      "   Authorities have begun a significant new search related to the disappearance of Madeleine McCann.\n",
      "\n",
      "3. **King of the Hill and Parks and Rec actor shot dead**  \n",
      "   News of the death of an actor known for roles in \"King of the Hill\" and \"Parks and Recreation.\"\n",
      "\n",
      "4. **Harvard Chinese grad speech draws praise and ire**  \n",
      "   Jiang Yurong, the first Chinese woman to speak at a Harvard graduation ceremony, called for global unity, sparking both praise and controversy.\n",
      "\n",
      "5. **India anger over 10-year-old rape victim's death after alleged treatment delay**  \n",
      "   Family members allege that the girl was kept waiting in an ambulance for hours before being admitted to the hospital.\n",
      "\n",
      "6. **Mongolia PM resigns after son's luxury holiday stirs public fury**  \n",
      "   Social media photos of a Dior bag and a lavish engagement sparked protests against Prime Minister Luvsannamsrain Oyun-Erdene.\n",
      "\n",
      "7. **Tesla is 'not interested' in producing cars in India - minister**  \n",
      "   India has publicly admitted for the first time that it has not been able to attract investment from Elon Musk.\n",
      "\n",
      "8. **Dutch government faces collapse as far-right leader exits coalition**  \n",
      "   The decision has sparked anger among Geert Wilders' coalition partners and paves the way for new elections in the Netherlands.\n",
      "\n",
      "9. **Toxic mushroom cook tells murder trial wild fungi have 'more flavour'**  \n",
      "   Erin Patterson, accused of intentionally poisoning four relatives, has pleaded not guilty.\n",
      "\n",
      "10. **Disney makes hundreds more layoffs as it cuts costs**  \n",
      "    The media giant is making further job cuts as viewers move away from cable TV to streaming platforms.\n",
      "\n",
      "These stories are currently among the most read and highlighted on the BBC News website.\n"
     ]
    }
   ],
   "source": [
    "from langchain.document_loaders import WebBaseLoader\n",
    "from langchain.text_splitter import RecursiveCharacterTextSplitter\n",
    "from langchain_community.embeddings import HuggingFaceEmbeddings\n",
    "from langchain.vectorstores import FAISS\n",
    "from langchain.memory import ConversationBufferMemory\n",
    "from langchain.chains import ConversationalRetrievalChain\n",
    "from langchain.chat_models import ChatOpenAI\n",
    "\n",
    "# GitHub-hosted endpoint and token\n",
    "api_key = config.github_token\n",
    "base_url = \"https://models.github.ai/inference\"\n",
    "model_name = \"openai/gpt-4.1\"\n",
    "\n",
    "# Load and split the web document\n",
    "url = \"https://www.bbc.com/news\"\n",
    "loader = WebBaseLoader(url)\n",
    "raw_documents = loader.load()\n",
    "text_splitter = RecursiveCharacterTextSplitter()\n",
    "documents = text_splitter.split_documents(raw_documents)\n",
    "\n",
    "# Use local Hugging Face embeddings instead of OpenAI\n",
    "embeddings = HuggingFaceEmbeddings(model_name=\"sentence-transformers/all-MiniLM-L6-v2\")\n",
    "vectorstore = FAISS.from_documents(documents, embeddings)\n",
    "\n",
    "# Set up conversation memory\n",
    "memory = ConversationBufferMemory(\n",
    "    memory_key=\"chat_history\",\n",
    "    return_messages=True\n",
    ")\n",
    "\n",
    "# Set up the retrieval chain using GitHub-hosted GPT-4.1\n",
    "qa = ConversationalRetrievalChain.from_llm(\n",
    "    ChatOpenAI(\n",
    "        model=model_name,\n",
    "        openai_api_key=api_key,\n",
    "        openai_api_base=base_url,\n",
    "        temperature=0\n",
    "    ),\n",
    "    retriever=vectorstore.as_retriever(),\n",
    "    memory=memory\n",
    ")\n",
    "\n",
    "# Ask the question\n",
    "query = \"What are today top-rated breaking news on BBC?\"\n",
    "result = qa({\"question\": query})\n",
    "\n",
    "# Output the result\n",
    "print(result[\"answer\"])\n"
   ]
  },
  {
   "cell_type": "code",
   "execution_count": null,
   "id": "ca4b0424-754c-41b4-a567-47d001a9ba1f",
   "metadata": {},
   "outputs": [],
   "source": []
  },
  {
   "cell_type": "code",
   "execution_count": null,
   "id": "11574a0b-4896-4bd0-8674-1e1228ba46fe",
   "metadata": {},
   "outputs": [],
   "source": []
  }
 ],
 "metadata": {
  "kernelspec": {
   "display_name": "Python [conda env:base] *",
   "language": "python",
   "name": "conda-base-py"
  },
  "language_info": {
   "codemirror_mode": {
    "name": "ipython",
    "version": 3
   },
   "file_extension": ".py",
   "mimetype": "text/x-python",
   "name": "python",
   "nbconvert_exporter": "python",
   "pygments_lexer": "ipython3",
   "version": "3.12.3"
  }
 },
 "nbformat": 4,
 "nbformat_minor": 5
}
